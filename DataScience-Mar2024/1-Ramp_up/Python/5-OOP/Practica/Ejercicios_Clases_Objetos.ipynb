{
 "cells": [
  {
   "cell_type": "markdown",
   "metadata": {},
   "source": [
    "![imagen](./img/ejercicios.png)\n",
    "\n",
    "# Ejercicios Clases y Objetos"
   ]
  },
  {
   "attachments": {},
   "cell_type": "markdown",
   "metadata": {},
   "source": [
    "## Ejercicio 1\n",
    "Somos una empresa que tiene varias tiendas de electrodomésticos. Necesitamos un programa para manejar las tiendas, ver las ventas que han tenido, cuántos empleados hay, etc... Para ello vamos a modelizar la tienda en una clase, que tendrá las siguientes características:\n",
    "* Nombre clase: \"Tienda\"\n",
    "* Atributos comunes:\n",
    "    * Tipo: \"Electrodomésticos\"\n",
    "    * Abierta: True\n",
    "* Atributos propios de cada tienda:\n",
    "    * Nombre - String\n",
    "    * Dirección - String\n",
    "    * Número de empleados - int\n",
    "    * Ventas últimos 3 meses - Lista de 3 numeros\n",
    "* Método para calcular las ventas de todos los meses, que devuelva un número con todas las ventas.\n",
    "* Método que calcula la media de ventas de los últimos meses, por empleado\n",
    "* Método que devuelve en un string el nombre de la tienda, junto con su dirección.\n",
    "* Método que obtiene las ventas del último mes.\n",
    "* Método para dar una proyección de las ventas en caso de haber invertido X dinero en marketing en esa tienda. Siendo X el parámetro de entrada. Si X es menor de 1000, las ventas de los ultimos 3 meses hubiesen sido de (1.2 x ventas), si es mayor o igual de 1000, las ventas hubiesen sido de (1.5 x venta). El método reescribe el atributo de ventas en los últimos 3 meses, y además devuelve las ventas con el aumento.\n",
    "\n",
    "Se pide:\n",
    "1. Implementar la clase \"Tienda\"\n",
    "2. Crear tres tiendas con datos inventados\n",
    "3. Comprueba en al menos una de ellas, todo lo implementado en la clase tienda (sus atributos, media de ventas, ventas/empleado...)\n",
    "3. Calcular las ventas del último mes de todas las tiendas. Para ello usa el bucle `for`\n",
    "4. Imprime por pantalla los nombres de las tiendas cuya dirección lleve el string \"Avenida\"\n",
    "5. Seguro que ya has hecho este apartado... Documenta la clase :)"
   ]
  },
  {
   "cell_type": "code",
   "execution_count": 56,
   "metadata": {},
   "outputs": [
    {
     "name": "stdout",
     "output_type": "stream",
     "text": [
      "303\n",
      "101.0\n",
      "0.3020937188434696\n",
      "1, holaa\n",
      "None\n",
      "300\n",
      "360.0\n"
     ]
    },
    {
     "ename": "TypeError",
     "evalue": "'float' object is not subscriptable",
     "output_type": "error",
     "traceback": [
      "\u001b[1;31m---------------------------------------------------------------------------\u001b[0m",
      "\u001b[1;31mTypeError\u001b[0m                                 Traceback (most recent call last)",
      "Cell \u001b[1;32mIn[56], line 44\u001b[0m\n\u001b[0;32m     41\u001b[0m tienda123 \u001b[38;5;241m=\u001b[39m [tienda1, tienda2, tienda3]\n\u001b[0;32m     43\u001b[0m \u001b[38;5;28;01mfor\u001b[39;00m tienda \u001b[38;5;129;01min\u001b[39;00m tienda123:\n\u001b[1;32m---> 44\u001b[0m     \u001b[38;5;28mprint\u001b[39m(\u001b[43mtienda\u001b[49m\u001b[38;5;241;43m.\u001b[39;49m\u001b[43mventas\u001b[49m\u001b[43m[\u001b[49m\u001b[38;5;241;43m-\u001b[39;49m\u001b[38;5;241;43m1\u001b[39;49m\u001b[43m]\u001b[49m)\n\u001b[0;32m     46\u001b[0m \u001b[38;5;28;01mfor\u001b[39;00m tienda \u001b[38;5;129;01min\u001b[39;00m tienda123:\n\u001b[0;32m     47\u001b[0m     \u001b[38;5;28;01mif\u001b[39;00m \u001b[38;5;124m\"\u001b[39m\u001b[38;5;124mAvenida\u001b[39m\u001b[38;5;124m\"\u001b[39m \u001b[38;5;129;01min\u001b[39;00m tienda\u001b[38;5;241m.\u001b[39mdireccion:\n",
      "\u001b[1;31mTypeError\u001b[0m: 'float' object is not subscriptable"
     ]
    }
   ],
   "source": [
    "class Tienda:\n",
    "    tipo = \"electrodomestico\"\n",
    "    Abierta = True\n",
    "    \n",
    "    def __init__(self, nombre, direccion, empleados, ventas):\n",
    "        self.nombre=nombre # Con todas las variables hay que poner eso\n",
    "        self.direccion = direccion\n",
    "        self.empleados = empleados\n",
    "        self.ventas = ventas\n",
    "    def sumaventas(self):\n",
    "        return sum(self.ventas)\n",
    "    def media(self):\n",
    "        return self.sumaventas()/self.empleados # Métodos que llaman a métodos. Esto cae\n",
    "    def media_ventas(self):\n",
    "        return self.sumaventas()/len(self.ventas) # Esto también es lo mismo. El len es porque la longitud es 3\n",
    "    def string(self):\n",
    "        return print(f\"{self.nombre}, {self.direccion}\")\n",
    "    def ventas_ultimo_mes(self):\n",
    "        return self.ventas[-1]\n",
    "    \n",
    "    def marketing(self, dinero):\n",
    "        if dinero < 1000:\n",
    "            xventas = 1.2\n",
    "        else:\n",
    "            xventas = 1.5\n",
    "        for numero in self.ventas:\n",
    "            self.ventas = numero * xventas\n",
    "        return self.ventas\n",
    "    \n",
    "tienda1 = Tienda(\"1\", \"holaa\", 1003, [1,2,300])\n",
    "tienda2 = Tienda(\"2\",\"3\", 300, [3,3,3])\n",
    "tienda3 = Tienda(\"hola\",\"siete\", 800, [3,5,9000])\n",
    "\n",
    "print(tienda1.sumaventas())\n",
    "print (tienda1.media_ventas())\n",
    "print(tienda1.media())\n",
    "print(tienda1.string())\n",
    "print(tienda1.ventas_ultimo_mes())\n",
    "print(tienda1.marketing(800))\n",
    "\n",
    "tienda123 = [tienda1, tienda2, tienda3]\n",
    "\n",
    "for tienda in tienda123:\n",
    "    print(tienda.ventas[-1])\n",
    "    \n",
    "for tienda in tienda123:\n",
    "    if \"Avenida\" in tienda.direccion:\n",
    "        print(tienda.nombre)"
   ]
  },
  {
   "cell_type": "code",
   "execution_count": 57,
   "metadata": {},
   "outputs": [],
   "source": [
    "class Tienda:  \n",
    "    def __init__(self, nombre, direccion, empleados, ventas, tipo =\"Electrodomésticos\", abierta=True):\n",
    "        self.nombre = nombre\n",
    "        self.direccion = direccion\n",
    "        self.empleados = empleados\n",
    "        self.ventas = ventas\n",
    "        self.tipo = tipo\n",
    "        self.abierta = abierta\n",
    "        \n",
    "    def calculo_ventas(self):\n",
    "        \"\"\"Método para calcular las ventas de todos los meses, que devuelva un número con todas las ventas.\"\"\"\n",
    "        return sum(self.ventas)\n",
    "    \n",
    "    def media_ventas(self):\n",
    "        return self.calculo_ventas()/len(self.ventas)\n",
    "    \n",
    "    def media_por_empleados(self):\n",
    "        \"\"\"* Método que calcula la media de ventas de los últimos meses, por empleado\"\"\"\n",
    "\n",
    "        return self.calculo_ventas()/self.empleados\n",
    "    \n",
    "    def nombre_addr(self):\n",
    "        \"\"\"* Método que devuelve en un string el nombre de la tienda, junto con su dirección.\"\"\"\n",
    "        return self.nombre + \"\\n\" + self.direccion\n",
    "    \n",
    "    def ventas_last(self):\n",
    "        \"\"\"Método que obtiene las ventas del último mes.\"\"\"\n",
    "        return self.ventas[-1]\n",
    "    \n",
    "    \n",
    "    def proyeccion(self, X):\n",
    "        \"\"\"Método para dar una proyección de las ventas en caso de haber invertido X dinero en marketing en esa tienda. \n",
    "        Siendo X el parámetro de entrada. \n",
    "        Si X es menor de 1000, las ventas de los ultimos 3 meses hubiesen sido de (1.2 x ventas), si es mayor o igual de 1000, \n",
    "        las ventas hubiesen sido de (1.5 x venta). \n",
    "        El método reescribe el atributo de ventas en los últimos 3 meses, y además devuelve las ventas con el aumento.\"\"\"\n",
    "\n",
    "        if X<1000:\n",
    "            incremento = 1.2\n",
    "        else:\n",
    "            incremento = 1.5\n",
    "    \n",
    "        nuevas_ventas = []\n",
    "        for venta in self.ventas:\n",
    "            nuevas_ventas.append(venta*incremento)\n",
    "        self.ventas = nuevas_ventas\n",
    "        return self.ventas"
   ]
  },
  {
   "cell_type": "markdown",
   "metadata": {},
   "source": [
    "## Ejercicio 2\n",
    "En este ejercicio vamos a implementar una clase *Perro* en Python. La clase tiene las siguientes características:\n",
    "* Cosas que sabemos seguro que tiene un perro\n",
    "    * Tiene 4 patas\n",
    "    * 2 orejas\n",
    "    * 2 ojos\n",
    "    * Una velocidad de 0. Por defecto, el perro está parado\n",
    "* Cuando se inicialice:\n",
    "    * El perro será de una determinada raza\n",
    "    * Por defecto tendrá pelo \"Marrón\", a no ser que se diga lo contrario.\n",
    "    * Por defecto no tendrá dueño, a no ser que se diga lo contrario.\n",
    "    \n",
    "* Dispondrá también de un método llamado andar, que tiene un argumento de entrada (aumento_velocidad). Este valor se le sumará a la velocidad que ya llevaba el perro.\n",
    "* Necesita otro método (parar), donde pondremos la velocidad a 0.\n",
    "* Otro método llamado \"ladrar\", que tendrá un argumento de entrada, y la salida será el siguiente string: \"GUAU!\" + el argumento de entrada.\n",
    "\n",
    "\n",
    "Se pide:\n",
    "* Implementa la clase *Perro*\n",
    "* Crea un objeto de tipo *Perro*, sin dueño\n",
    "* Comprueba que están bien todos sus atributos\n",
    "* Prueba que ande, y comprueba su velocidad\n",
    "* Páralo\n",
    "* Documenta la clase *Perro*"
   ]
  },
  {
   "cell_type": "code",
   "execution_count": 68,
   "metadata": {},
   "outputs": [
    {
     "name": "stdout",
     "output_type": "stream",
     "text": [
      "patas 4\n",
      "orejas 2\n",
      "ojos 2\n",
      "velocidad 0\n",
      "raza Galgo\n",
      "color Marrón\n",
      "dueño False\n",
      "100\n",
      "100\n",
      "0\n",
      "0\n",
      "GUAUsdddd\n"
     ]
    }
   ],
   "source": [
    "class Perro:\n",
    "    patas = 4\n",
    "    orejas = 2\n",
    "    ojos = 2\n",
    "    velocidad = 0\n",
    "    \n",
    "    def __init__(self, raza= \"Galgo\", color = \"Marrón\", dueño = False):\n",
    "        self.raza = raza\n",
    "        self.color = color\n",
    "        self.dueño = dueño\n",
    "        \n",
    "    def andar(self, aumento_velocidad):\n",
    "        self.velocidad = self.velocidad + aumento_velocidad\n",
    "        return self.velocidad\n",
    "    \n",
    "    def parar(self):\n",
    "            self.velocidad = self.velocidad - self.velocidad\n",
    "            return self.velocidad\n",
    "    \n",
    "    def ladrar(self, entrada):\n",
    "        return \"GUAU\" + entrada\n",
    "\n",
    "    def check_perro(self):\n",
    "        print(\"patas\", self.patas)\n",
    "        print(\"orejas\", self.orejas)\n",
    "        print(\"ojos\", self.ojos)\n",
    "        print(\"velocidad\", self.velocidad)\n",
    "        print(\"raza\", self.raza)\n",
    "        print(\"color\", self.color)\n",
    "        print(\"dueño\", self.dueño)\n",
    "perro = Perro()\n",
    "\n",
    "perro.check_perro()\n",
    "print(perro.andar(100))\n",
    "print(perro.velocidad)\n",
    "print(perro.parar())\n",
    "print(perro.velocidad)\n",
    "print(perro.ladrar(\"sdddd\"))"
   ]
  },
  {
   "cell_type": "code",
   "execution_count": 122,
   "metadata": {},
   "outputs": [],
   "source": [
    "class Mascota:  \n",
    "    def __init__(self, nombre, especie, edad, hambre = 100, energia = 100, animo = 0):\n",
    "        self.nombre = nombre\n",
    "        self.especie = especie\n",
    "        self.edad = edad\n",
    "        self.hambre = hambre\n",
    "        self.energia = energia\n",
    "        self.animo = animo\n",
    "    \n",
    "    def alimentar(self,cantidad):\n",
    "        self.hambre -= cantidad\n",
    "        return self.hambre\n",
    "        \n",
    "    def dormir(self,duracion):\n",
    "        self.energia += duracion\n",
    "        return self.energia\n",
    "    \n",
    "    def jugar(self,duracion):\n",
    "        self.energia = self.energia-duracion\n",
    "        self.animo = self.animo+duracion\n",
    "        if self.energia <= 0:\n",
    "            return self.dormir(duracion)\n",
    "        \n",
    "    def estado(self):\n",
    "        print(\"nombre\", self.nombre)\n",
    "        print(\"especie\", self.especie)\n",
    "        print(\"edad\", self.edad)\n",
    "        print(\"hambre\", self.hambre)\n",
    "        print(\"energia\", self.energia)\n",
    "        print(\"animo\", self.animo)\n",
    "            \n",
    "    "
   ]
  },
  {
   "cell_type": "code",
   "execution_count": 123,
   "metadata": {},
   "outputs": [
    {
     "name": "stdout",
     "output_type": "stream",
     "text": [
      "nombre lua\n",
      "especie perro\n",
      "edad 13\n",
      "hambre 70\n",
      "energia 10\n",
      "animo 90\n"
     ]
    }
   ],
   "source": [
    "mascota = Mascota(\"lua\",\"perro\",13)\n",
    "mascota.alimentar(30)\n",
    "mascota.__dict__\n",
    "mascota.jugar(90)\n",
    "mascota.estado()"
   ]
  },
  {
   "cell_type": "code",
   "execution_count": 313,
   "metadata": {},
   "outputs": [
    {
     "data": {
      "text/plain": [
       "(2, 1, 3)"
      ]
     },
     "execution_count": 313,
     "metadata": {},
     "output_type": "execute_result"
    }
   ],
   "source": [
    "class Meollo:\n",
    "    caos = [{\"cosas\":    ([{\"clave\": [1]},{\"clave\": [2]},{\"clave\": [3]}],)     }] # , ANTES DE PARÉNTESIS SIGNIFICA QUE ES UNA TUPLA, Ponerlo siempre\n",
    "\n",
    "    def __init__(self):\n",
    "        caos = self.caos\n",
    "    def suma(self):\n",
    "        numeritos = []\n",
    "        for diccionarios in self.caos[0][\"cosas\"][0]: # Coges el primer elemento que sería la lista (no hay más), luego coges cosas y el primer elemento que es la lista.\n",
    "            numeritos.append(diccionarios[\"clave\"][0]) # Dentro de eso coges la clave de cada uno por el for y se lo añades a una lista vacia.\n",
    "        return(sum(numeritos))\n",
    "    def scramble(self):\n",
    "        numeritos = []\n",
    "        numeros = [] # Otra lista vacia para poder iterar dentro de numeritos sin modificarla. Hacerlo siempre\n",
    "        for diccionarios in self.caos[0][\"cosas\"][0]:\n",
    "            numeritos.append(diccionarios[\"clave\"][0])\n",
    "        numeros = numeritos[0], numeritos[1], numeritos[2] = numeritos[1], numeritos[0], numeritos[2]\n",
    "        return numeros\n",
    "\n",
    "meollo = Meollo()\n",
    "meollo.suma()\n",
    "meollo.scramble()\n",
    "\n"
   ]
  },
  {
   "cell_type": "code",
   "execution_count": 309,
   "metadata": {},
   "outputs": [
    {
     "ename": "TypeError",
     "evalue": "'set' object is not callable",
     "output_type": "error",
     "traceback": [
      "\u001b[1;31m---------------------------------------------------------------------------\u001b[0m",
      "\u001b[1;31mTypeError\u001b[0m                                 Traceback (most recent call last)",
      "Cell \u001b[1;32mIn[309], line 2\u001b[0m\n\u001b[0;32m      1\u001b[0m sete \u001b[38;5;241m=\u001b[39m \u001b[38;5;28mset\u001b[39m()\n\u001b[1;32m----> 2\u001b[0m \u001b[43msete\u001b[49m\u001b[43m(\u001b[49m\u001b[38;5;241;43m1\u001b[39;49m\u001b[43m,\u001b[49m\u001b[38;5;241;43m2\u001b[39;49m\u001b[43m,\u001b[49m\u001b[38;5;241;43m3\u001b[39;49m\u001b[43m)\u001b[49m\n",
      "\u001b[1;31mTypeError\u001b[0m: 'set' object is not callable"
     ]
    }
   ],
   "source": []
  },
  {
   "cell_type": "code",
   "execution_count": 201,
   "metadata": {},
   "outputs": [
    {
     "data": {
      "text/plain": [
       "tuple"
      ]
     },
     "execution_count": 201,
     "metadata": {},
     "output_type": "execute_result"
    }
   ],
   "source": [
    "caos = [{\"cosas\":({\"cosa1\": [1]},{\"cosa2\": [2]},{\"cosa3\": [3]})}]\n",
    "caos2 = (caos[0].values())\n",
    "caos3 = tuple(caos2)\n",
    "type(caos3)"
   ]
  },
  {
   "cell_type": "code",
   "execution_count": 224,
   "metadata": {},
   "outputs": [
    {
     "data": {
      "text/plain": [
       "list"
      ]
     },
     "execution_count": 224,
     "metadata": {},
     "output_type": "execute_result"
    }
   ],
   "source": [
    "caos = [{\"cosas\":({\"cosa1\": [1]},{\"cosa2\": [2]},{\"cosa3\": [3]})}]\n",
    "type(caos)"
   ]
  },
  {
   "cell_type": "code",
   "execution_count": 265,
   "metadata": {},
   "outputs": [
    {
     "name": "stdout",
     "output_type": "stream",
     "text": [
      "1\n",
      "2\n",
      "3\n"
     ]
    },
    {
     "data": {
      "text/plain": [
       "6"
      ]
     },
     "execution_count": 265,
     "metadata": {},
     "output_type": "execute_result"
    }
   ],
   "source": [
    "caos = [{\"cosas\":    ([{\"clave\": [1]},{\"clave\": [2]},{\"clave\": [3]}],)     }]  ### GET SALE\n",
    "numeritos = []\n",
    "for diccionarios in caos[0][\"cosas\"][0]:\n",
    "    print(diccionarios[\"clave\"][0])\n",
    "    numeritos.append(diccionarios[\"clave\"][0])\n",
    "sum(numeritos)"
   ]
  },
  {
   "cell_type": "code",
   "execution_count": 233,
   "metadata": {},
   "outputs": [
    {
     "name": "stdout",
     "output_type": "stream",
     "text": [
      "([{'cosa1': [1]}, {'cosa2': [2]}, {'cosa3': [3]}],)\n"
     ]
    }
   ],
   "source": [
    "caoso= caos[0][\"cosas\"] # Primero es una lista y después saca las values de cosas\n",
    "# El diccionario de su ejercicio será con 2 values iguales.\n",
    "type(caoso)\n",
    "print(caoso)"
   ]
  },
  {
   "cell_type": "code",
   "execution_count": 314,
   "metadata": {},
   "outputs": [],
   "source": [
    "d = [{\"nombre\": \"bartolo\", \"apellido\": \"ruiz\", \"edad\": 20, \"notas\":[{\"mates\":10}, {\"mates\":10}]}]"
   ]
  },
  {
   "cell_type": "markdown",
   "metadata": {},
   "source": [
    "Crea una clase llamada `Movil()`. Todos los móviles tendran:\n",
    "* Batería (bool) = True\n",
    "\n",
    "El resto de atributos serán particulares:\n",
    "* marca (str)\n",
    "* carga (float): porcentaje de batería de 0 a 100, por defecto 60.0\n",
    "* camara (int) : Nº de megapixels\n",
    "* memoria (int): Nº de fotos totales que se pueden almacenar\n",
    "\n",
    "1. Deberás crear el método de `cargar()`, lo que hará será incrementar la batería un 30%. Si llega al 100% no aumentará más y devolverá un mensaje de `Batería cargada`. Deberá devolver el estado de la batería tras cargar.\n",
    "2. Deberás crear el método de `hacer_foto()`, con un argumento de entrada llamado `n_fotos` de tipo entero que será el número de fotos a realizar. Cada una de esas fotos, ocuparán memoria, por lo que deberá actualizar su atributo. Deberá devolver la memoria restante, y en caso de que se quede sin memoria, no se realizarán las fotos y deberá devolver un mensaje de `Memoria insuficiente`. Documenta la clase\n",
    "\n",
    "Ahora con la clase ya creada:\n",
    "1. Crea 3 objetos a partir de la clase, un \"Samsung\" con un 45.5% de carga, un \"Xiaomi\" y un \"Apple\". Todos ellos tendrán 1000 de memoria, menos el Apple que tendrá 500.\n",
    "2. Carga los 3 móviles hasta que muestre el mensaje de que la batería está cargada y muestra por pantalla su batería. Realiza 800 fotos con los 3 móviles utilizando un `input()` y comprueba el atributo de memoria."
   ]
  },
  {
   "cell_type": "code",
   "execution_count": 6,
   "metadata": {},
   "outputs": [],
   "source": [
    "class Movil:\n",
    "    Bateria = True\n",
    "    def __init__(self, marca, camara, memoria, carga=60):\n",
    "        self.marca = marca\n",
    "        self.camara = camara\n",
    "        self.memoria = memoria\n",
    "        self.carga = carga\n",
    "    def cargar (self):\n",
    "        self.carga += 30\n",
    "        if self.carga >= 100:\n",
    "            print(\"Bateria cargada\")\n",
    "            self.carga == 100\n",
    "        print(f\"Carga = {self.carga}\")\n",
    "    def hacerfoto (self,n_fotos):\n",
    "        nueva_memoria = self.memoria - n_fotos\n",
    "        if nueva_memoria < 0:\n",
    "            print(\"Memoria Insuficiente\")\n",
    "            return self.memoria\n",
    "        self.memoria = nueva_memoria\n",
    "        return nueva_memoria"
   ]
  },
  {
   "cell_type": "code",
   "execution_count": 112,
   "metadata": {},
   "outputs": [
    {
     "name": "stdout",
     "output_type": "stream",
     "text": [
      "Aanu, AanuAanuAanuAanu\n",
      "Aanu, AanuAanuAanuAanu\n",
      "Aanu, AanuAanuAanuAanu\n",
      "Aanu, AanuAanuAanuAanu\n",
      "4\n"
     ]
    }
   ],
   "source": [
    "list1 = [2, {\"Alabama\"}, {\"nombre\": \"Aanu\", \"apellido\": \"Ruizo\", \"edad\": 23 }]\n",
    "\n",
    "\n",
    "#for elemento in list1[2][\"nombre\"]:\n",
    "    #list1[2][\"nombre\"][0].lower() #para que tenga en cuenta minusculas\n",
    "    #if (list1[2][\"nombre\"][0] == \"a\") or (list1[2][\"nombre\"][0] == \"o\") or (list1[2][\"nombre\"][0] ==\"i\") or (list1[2][\"nombre\"][0] ==\"e\") or (list1[2][\"nombre\"][0] ==\"u\"):\n",
    "        #print(list1[2][\"nombre\"])\n",
    "        #print(list1[2][\"edad\"][0])\n",
    "        \n",
    "nombre = list1[2][\"nombre\"]\n",
    "count = 0\n",
    "for elemento in list1[2][\"nombre\"]:\n",
    "    count += 1\n",
    "    if len(list1[2][\"apellido\"]) > 4:\n",
    "        print(f\"{nombre}, {nombre*4}\")\n",
    "print(count)\n"
   ]
  },
  {
   "cell_type": "code",
   "execution_count": 132,
   "metadata": {},
   "outputs": [
    {
     "data": {
      "text/plain": [
       "'No existe'"
      ]
     },
     "execution_count": 132,
     "metadata": {},
     "output_type": "execute_result"
    }
   ],
   "source": [
    "dic = {1:\"hola\",\"hey\":\"treinta\"}\n",
    "dic.get(23232,\"No existe\")"
   ]
  }
 ],
 "metadata": {
  "kernelspec": {
   "display_name": "Python 3.7.4 64-bit",
   "language": "python",
   "name": "python3"
  },
  "language_info": {
   "codemirror_mode": {
    "name": "ipython",
    "version": 3
   },
   "file_extension": ".py",
   "mimetype": "text/x-python",
   "name": "python",
   "nbconvert_exporter": "python",
   "pygments_lexer": "ipython3",
   "version": "3.11.8"
  },
  "vscode": {
   "interpreter": {
    "hash": "90139cb9a825bf3d63f6f6704e828dbd1ff7edbd4d0c6e906a71235d6efc74af"
   }
  }
 },
 "nbformat": 4,
 "nbformat_minor": 4
}
