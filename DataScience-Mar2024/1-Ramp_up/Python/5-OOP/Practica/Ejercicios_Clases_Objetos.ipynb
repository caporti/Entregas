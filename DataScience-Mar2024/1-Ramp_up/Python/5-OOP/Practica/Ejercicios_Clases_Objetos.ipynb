{
 "cells": [
  {
   "cell_type": "markdown",
   "metadata": {},
   "source": [
    "![imagen](./img/ejercicios.png)\n",
    "\n",
    "# Ejercicios Clases y Objetos"
   ]
  },
  {
   "attachments": {},
   "cell_type": "markdown",
   "metadata": {},
   "source": [
    "## Ejercicio 1\n",
    "Somos una empresa que tiene varias tiendas de electrodomésticos. Necesitamos un programa para manejar las tiendas, ver las ventas que han tenido, cuántos empleados hay, etc... Para ello vamos a modelizar la tienda en una clase, que tendrá las siguientes características:\n",
    "* Nombre clase: \"Tienda\"\n",
    "* Atributos comunes:\n",
    "    * Tipo: \"Electrodomésticos\"\n",
    "    * Abierta: True\n",
    "* Atributos propios de cada tienda:\n",
    "    * Nombre - String\n",
    "    * Dirección - String\n",
    "    * Número de empleados - int\n",
    "    * Ventas últimos 3 meses - Lista de 3 numeros\n",
    "* Método para calcular las ventas de todos los meses, que devuelva un número con todas las ventas.\n",
    "* Método que calcula la media de ventas de los últimos meses, por empleado\n",
    "* Método que devuelve en un string el nombre de la tienda, junto con su dirección.\n",
    "* Método que obtiene las ventas del último mes.\n",
    "* Método para dar una proyección de las ventas en caso de haber invertido X dinero en marketing en esa tienda. Siendo X el parámetro de entrada. Si X es menor de 1000, las ventas de los ultimos 3 meses hubiesen sido de (1.2 x ventas), si es mayor o igual de 1000, las ventas hubiesen sido de (1.5 x venta). El método reescribe el atributo de ventas en los últimos 3 meses, y además devuelve las ventas con el aumento.\n",
    "\n",
    "Se pide:\n",
    "1. Implementar la clase \"Tienda\"\n",
    "2. Crear tres tiendas con datos inventados\n",
    "3. Comprueba en al menos una de ellas, todo lo implementado en la clase tienda (sus atributos, media de ventas, ventas/empleado...)\n",
    "3. Calcular las ventas del último mes de todas las tiendas. Para ello usa el bucle `for`\n",
    "4. Imprime por pantalla los nombres de las tiendas cuya dirección lleve el string \"Avenida\"\n",
    "5. Seguro que ya has hecho este apartado... Documenta la clase :)"
   ]
  },
  {
   "cell_type": "code",
   "execution_count": 1,
   "metadata": {},
   "outputs": [
    {
     "name": "stdout",
     "output_type": "stream",
     "text": [
      "303\n",
      "0.3020937188434696\n",
      "1, 1\n",
      "None\n",
      "300\n",
      "450.0\n"
     ]
    },
    {
     "ename": "TypeError",
     "evalue": "'float' object is not subscriptable",
     "output_type": "error",
     "traceback": [
      "\u001b[1;31m---------------------------------------------------------------------------\u001b[0m",
      "\u001b[1;31mTypeError\u001b[0m                                 Traceback (most recent call last)",
      "Cell \u001b[1;32mIn[1], line 41\u001b[0m\n\u001b[0;32m     38\u001b[0m tienda123 \u001b[38;5;241m=\u001b[39m [tienda1, tienda2, tienda3]\n\u001b[0;32m     40\u001b[0m \u001b[38;5;28;01mfor\u001b[39;00m tienda \u001b[38;5;129;01min\u001b[39;00m tienda123:\n\u001b[1;32m---> 41\u001b[0m     \u001b[38;5;28mprint\u001b[39m(\u001b[43mtienda\u001b[49m\u001b[38;5;241;43m.\u001b[39;49m\u001b[43mventas\u001b[49m\u001b[43m[\u001b[49m\u001b[38;5;241;43m-\u001b[39;49m\u001b[38;5;241;43m1\u001b[39;49m\u001b[43m]\u001b[49m)\n\u001b[0;32m     43\u001b[0m \u001b[38;5;28;01mfor\u001b[39;00m tienda \u001b[38;5;129;01min\u001b[39;00m tienda123:\n\u001b[0;32m     44\u001b[0m     \u001b[38;5;28;01mif\u001b[39;00m \u001b[38;5;124m\"\u001b[39m\u001b[38;5;124mAvenida\u001b[39m\u001b[38;5;124m\"\u001b[39m \u001b[38;5;129;01min\u001b[39;00m tienda\u001b[38;5;241m.\u001b[39mdireccion:\n",
      "\u001b[1;31mTypeError\u001b[0m: 'float' object is not subscriptable"
     ]
    }
   ],
   "source": [
    "class Tienda:\n",
    "    type(\"electrodomestico\")\n",
    "    Abierta = True\n",
    "    \n",
    "    def __init__(self, nombre:str, direccion:str, empleados:int, ventas:list):\n",
    "        self.nombre=nombre\n",
    "        self.direccion = direccion\n",
    "        self.empleados = empleados\n",
    "        self.ventas = ventas\n",
    "    def sumaventas(self,ventas):\n",
    "        return sum(self.ventas)\n",
    "    def media(self,ventas,empleados):\n",
    "        return sum(self.ventas)/self.empleados\n",
    "    def string(self, nombre, direccion):\n",
    "        return print(f\"{self.nombre}, {self.direccion}\")\n",
    "    def ventas_ultimo_mes(self,ventas):\n",
    "        return self.ventas[-1]\n",
    "    \n",
    "    def marketing(self, dinero):\n",
    "        if dinero < 1000:\n",
    "            xventas = 1.2\n",
    "        else:\n",
    "            xventas = 1.5\n",
    "        for numero in self.ventas:\n",
    "            self.ventas = numero * xventas\n",
    "        return self.ventas\n",
    "    \n",
    "tienda1 = Tienda(\"1\", \"1\", 1003, [1,2,300])\n",
    "tienda2 = Tienda(\"2\",\"3\", 300, [3,3,3])\n",
    "tienda3 = Tienda(\"hola\",\"siete\", 800, [3,0,9000])\n",
    "\n",
    "print(tienda1.sumaventas([6700,90000,3000]))\n",
    "print(tienda1.media(2000,6))\n",
    "print(tienda1.string(\"1\", \"1\"))\n",
    "print(tienda1.ventas_ultimo_mes([700,900,1]))\n",
    "print(tienda1.marketing(9000))\n",
    "\n",
    "tienda123 = [tienda1, tienda2, tienda3]\n",
    "\n",
    "for tienda in tienda123:\n",
    "    print(tienda.ventas[-1])\n",
    "    \n",
    "for tienda in tienda123:\n",
    "    if \"Avenida\" in tienda.direccion:\n",
    "        print(tienda.nombre)"
   ]
  },
  {
   "cell_type": "markdown",
   "metadata": {},
   "source": [
    "## Ejercicio 2\n",
    "En este ejercicio vamos a implementar una clase *Perro* en Python. La clase tiene las siguientes características:\n",
    "* Cosas que sabemos seguro que tiene un perro\n",
    "    * Tiene 4 patas\n",
    "    * 2 orejas\n",
    "    * 2 ojos\n",
    "    * Una velocidad de 0. Por defecto, el perro está parado\n",
    "* Cuando se inicialice:\n",
    "    * El perro será de una determinada raza\n",
    "    * Por defecto tendrá pelo \"Marrón\", a no ser que se diga lo contrario.\n",
    "    * Por defecto no tendrá dueño, a no ser que se diga lo contrario.\n",
    "    \n",
    "* Dispondrá también de un método llamado andar, que tiene un argumento de entrada (aumento_velocidad). Este valor se le sumará a la velocidad que ya llevaba el perro.\n",
    "* Necesita otro método (parar), donde pondremos la velocidad a 0.\n",
    "* Otro método llamado \"ladrar\", que tendrá un argumento de entrada, y la salida será el siguiente string: \"GUAU!\" + el argumento de entrada.\n",
    "\n",
    "\n",
    "Se pide:\n",
    "* Implementa la clase *Perro*\n",
    "* Crea un objeto de tipo *Perro*, sin dueño\n",
    "* Comprueba que están bien todos sus atributos\n",
    "* Prueba que ande, y comprueba su velocidad\n",
    "* Páralo\n",
    "* Documenta la clase *Perro*"
   ]
  },
  {
   "cell_type": "code",
   "execution_count": null,
   "metadata": {},
   "outputs": [],
   "source": [
    "class Perro:\n",
    "    patas = 4\n",
    "    orejas = 2\n",
    "    ojos = 2\n",
    "    velocidad = 0\n",
    "    \n",
    "    def __init__(self, raza= \"Galgo\", color = \"Marrón\", dueño = False):\n",
    "        self.raza = raza\n",
    "        self.color = color\n",
    "        self.dueño = dueño\n",
    "        \n",
    "    def andar(self, aumento_velocidad):\n",
    "        self.velocidad = self.velocidad + aumento_velocidad\n",
    "        return self.velocidad\n",
    "    \n",
    "    def parar(self):\n",
    "            self.velocidad = self.velocidad - self.velocidad\n",
    "            return self.velocidad\n",
    "    \n",
    "    def ladrar(self, string):\n",
    "        return \"GUAU\"+' '+ self.string\n",
    "\n",
    "    def check_perro(self):\n",
    "        print(\"patas\", self.patas)\n",
    "        print(\"orejas\", self.orejas)\n",
    "        print(\"ojos\", self.ojos)\n",
    "        print(\"velocidad\", self.velocidad)\n",
    "        print(\"raza\", self.raza)\n",
    "        print(\"color\", self.color)\n",
    "        print(\"dueño\", self.dueño)\n",
    "perro = Perro()\n",
    "\n",
    "perro.check_perro()\n",
    "print(perro.andar(1))\n",
    "print(perro.velocidad)\n",
    "print(perro.parar())\n",
    "print(perro.velocidad)"
   ]
  }
 ],
 "metadata": {
  "kernelspec": {
   "display_name": "Python 3.7.4 64-bit",
   "language": "python",
   "name": "python3"
  },
  "language_info": {
   "codemirror_mode": {
    "name": "ipython",
    "version": 3
   },
   "file_extension": ".py",
   "mimetype": "text/x-python",
   "name": "python",
   "nbconvert_exporter": "python",
   "pygments_lexer": "ipython3",
   "version": "3.11.8"
  },
  "vscode": {
   "interpreter": {
    "hash": "90139cb9a825bf3d63f6f6704e828dbd1ff7edbd4d0c6e906a71235d6efc74af"
   }
  }
 },
 "nbformat": 4,
 "nbformat_minor": 4
}
